{
 "cells": [
  {
   "cell_type": "code",
   "execution_count": null,
   "id": "c318ab32",
   "metadata": {
    "ExecuteTime": {
     "end_time": "2022-02-18T04:05:08.683946Z",
     "start_time": "2022-02-18T04:05:07.217782Z"
    }
   },
   "outputs": [],
   "source": [
    "import logging\n",
    "from kiteconnect import KiteConnect\n",
    "import numpy as np\n",
    "import matplotlib.pyplot as plt\n",
    "import pandas as pd\n",
    "from pprint import pprint\n",
    "import time\n",
    "from IPython.display import clear_output"
   ]
  },
  {
   "cell_type": "code",
   "execution_count": null,
   "id": "c7c6140d",
   "metadata": {
    "ExecuteTime": {
     "end_time": "2022-02-18T04:05:08.699978Z",
     "start_time": "2022-02-18T04:05:08.686947Z"
    }
   },
   "outputs": [],
   "source": [
    "logging.basicConfig(level=logging.DEBUG)\n",
    "\n",
    "api_key = ''\n",
    "api_secret = ''\n",
    "\n",
    "kite = KiteConnect(api_key=api_key)\n",
    "\n",
    "print(kite.login_url())\n",
    "t = time.localtime()  "
   ]
  },
  {
   "cell_type": "code",
   "execution_count": null,
   "id": "b914600c",
   "metadata": {
    "ExecuteTime": {
     "end_time": "2022-02-18T04:07:16.403864Z",
     "start_time": "2022-02-18T04:07:09.087661Z"
    }
   },
   "outputs": [],
   "source": [
    "requestToken = ''\n",
    "data = kite.generate_session(request_token=requestToken, api_secret=api_secret)\n",
    "kite.set_access_token(data[\"access_token\"])\n",
    "instruments = kite.instruments()"
   ]
  },
  {
   "cell_type": "code",
   "execution_count": null,
   "id": "cfcf7b7d",
   "metadata": {
    "ExecuteTime": {
     "end_time": "2022-02-18T04:07:17.969011Z",
     "start_time": "2022-02-18T04:07:17.955939Z"
    }
   },
   "outputs": [],
   "source": [
    "def balance():\n",
    "    funds = kite.margins(segment='equity')\n",
    "    return funds['available']['live_balance']"
   ]
  },
  {
   "cell_type": "code",
   "execution_count": null,
   "id": "1828f57c",
   "metadata": {
    "ExecuteTime": {
     "end_time": "2022-02-18T04:07:19.204439Z",
     "start_time": "2022-02-18T04:07:19.186298Z"
    }
   },
   "outputs": [],
   "source": [
    "stock_list = [\n",
    "    'BSE:SHARE_NAME', \n",
    "    'NSE:SHARE_NAME', \n",
    "]\n",
    "shareNameList = [\n",
    "    'SHARE_NAME',\n",
    "    'SHARE_NAME',\n",
    "]"
   ]
  },
  {
   "cell_type": "code",
   "execution_count": null,
   "id": "189faeb6",
   "metadata": {
    "ExecuteTime": {
     "end_time": "2022-02-18T04:07:19.821804Z",
     "start_time": "2022-02-18T04:07:19.816743Z"
    }
   },
   "outputs": [],
   "source": [
    "def r(num):\n",
    "    return round(num, 2)"
   ]
  },
  {
   "cell_type": "code",
   "execution_count": null,
   "id": "46386bcf",
   "metadata": {},
   "outputs": [],
   "source": [
    "def toBuy():\n",
    "    n = len(stock_list)\n",
    "    bal = balance()\n",
    "    "
   ]
  },
  {
   "cell_type": "code",
   "execution_count": null,
   "id": "13ecab0f",
   "metadata": {
    "ExecuteTime": {
     "end_time": "2022-02-18T06:57:23.969878Z",
     "start_time": "2022-02-18T06:57:23.952150Z"
    }
   },
   "outputs": [],
   "source": [
    "def placeOrder(shareName, quantity, buy, pricePerShare):\n",
    "    quantity = 10\n",
    "    pricePerShare = r(pricePerShare)\n",
    "    print('price form place order',pricePerShare)\n",
    "    if buy:\n",
    "        transactionType = kite.TRANSACTION_TYPE_BUY\n",
    "        print('BUYING')\n",
    "    else:\n",
    "        transactionType = kite.TRANSACTION_TYPE_SELL\n",
    "        print('SELLING')\n",
    "    try:\n",
    "        order_id = kite.place_order(\n",
    "            variety=kite.VARIETY_REGULAR,\n",
    "            exchange=kite.EXCHANGE_BSE,\n",
    "            tradingsymbol=shareName,\n",
    "            transaction_type=transactionType,\n",
    "            quantity=quantity,  # quantity\n",
    "            product=kite.PRODUCT_CNC,\n",
    "            order_type=kite.ORDER_TYPE_LIMIT,\n",
    "            price=pricePerShare,\n",
    "            validity=kite.VALIDITY_DAY\n",
    "        )\n",
    "        logging.info(\"Order placed. ID is: {}\".format(order_id))\n",
    "        return True\n",
    "    except Exception as e:\n",
    "        logging.info(\"Order placement failed: {}\".format(e.message))\n",
    "        return False\n",
    "    "
   ]
  },
  {
   "cell_type": "code",
   "execution_count": null,
   "id": "300d89ce",
   "metadata": {
    "ExecuteTime": {
     "end_time": "2022-02-18T06:52:40.559453Z",
     "start_time": "2022-02-18T06:52:40.548455Z"
    }
   },
   "outputs": [],
   "source": [
    "def selectShare(sharename):\n",
    "    if sharename == 'BSE:SHARE_NAME':\n",
    "        share = #SHARE_NAME\n",
    "    return share "
   ]
  },
  {
   "cell_type": "code",
   "execution_count": null,
   "id": "3b1180ac",
   "metadata": {
    "ExecuteTime": {
     "end_time": "2022-02-18T06:52:41.148915Z",
     "start_time": "2022-02-18T06:52:41.129257Z"
    }
   },
   "outputs": [],
   "source": [
    "#shareName, freedays, funds, maxValue, price, percent\n",
    "def SelectPrices(shareName, freedays, funds, maxValue):\n",
    "    share = selectShare(shareName)\n",
    "    cp = share.price()  # cp = current price\n",
    "    cp = float(cp)\n",
    "    freedays = share.freedays\n",
    "    percent = share.percent\n",
    "    numShares, avgPrice = share.numSharesANDavgPrice()\n",
    "    if numShares is not None:\n",
    "        go = True\n",
    "        lowSelect = avgPrice\n",
    "    else:\n",
    "        go = False     \n",
    "        highSelect = r(maxValue/0.95)\n",
    "    print(shareName, cp)\n",
    "    print('true means sell and false means sell')\n",
    "    print(go)\n",
    "    if go and cp > (1+(percent/100))*lowSelect:\n",
    "        print('sell', cp)\n",
    "        highSelect = (1+(percent/100))*lowSelect\n",
    "        quantity = numShares\n",
    "        #if (t.tm_min>30 and t.tm_hour>9) and (tt.tm_hour<15 and t.tm_min<30):\n",
    "        print(f'|-----------sell order placed for {shareName} for {quantity} shares at {highSelect}-----------|')\n",
    "        placeOrder(shareName, quantity, False, highSelect)\n",
    "    if not(go):\n",
    "        #a += 1\n",
    "        #print('a', a)\n",
    "        if (cp<=0.95*highSelect and cp<=maxValue): #or (a>freedays):\n",
    "            print('buy', cp)\n",
    "            lowSelect = cp\n",
    "            go = True\n",
    "            quantity = int((balance()*0.1)/lowSelect)\n",
    "            #if (t.tm_min>30 and t.tm_hour>9) and (tt.tm_hour<15 and t.tm_min<30):\n",
    "            placeOrder(shareName, quantity, True, lowSelect)                                                     \n",
    "            print(f'|-----------buy order placed for {shareName} for {quantity} shares at {lowSelect}-------------|')"
   ]
  },
  {
   "cell_type": "code",
   "execution_count": null,
   "id": "31d74deb",
   "metadata": {
    "ExecuteTime": {
     "end_time": "2022-02-18T06:52:42.098937Z",
     "start_time": "2022-02-18T06:52:42.076178Z"
    }
   },
   "outputs": [],
   "source": [
    "class Share():\n",
    "    def __init__(self, shareName, tradingSymbol, exchange ,freedays, percent, funds, maxValue):\n",
    "        self.shareName = shareName\n",
    "        self.tradingSymbol = tradingSymbol\n",
    "        self.exchange = exchange\n",
    "        self.freedays = freedays\n",
    "        self.percent = percent\n",
    "        self.funds = funds\n",
    "        self.maxValue = maxValue\n",
    "    def price(self):          # ltp is lastprice\n",
    "        p = kite.ltp(stock_list)\n",
    "        return p[self.shareName]['last_price']\n",
    "    def numSharesANDavgPrice(self):\n",
    "        for i in kite.holdings():\n",
    "            if i['tradingsymbol']==self.tradingSymbol and i['exchange']==self.exchange:\n",
    "                print(i['tradingsymbol'], i['exchange'])\n",
    "                return i['opening_quantity'], i['average_price']\n",
    "        return None, None\n",
    "    def PLACEORDER(self):\n",
    "        SelectPrices(self.shareName, self.freedays, self.funds, self.maxValue)\n",
    "        return None"
   ]
  },
  {
   "cell_type": "code",
   "execution_count": null,
   "id": "cdd0e451",
   "metadata": {
    "ExecuteTime": {
     "end_time": "2022-02-18T06:52:45.979006Z",
     "start_time": "2022-02-18T06:52:45.952639Z"
    }
   },
   "outputs": [],
   "source": [
    "# name : name of stock\n",
    "# tradingSymbol : symbol according to ZERODHA\n",
    "# exchange : NSE or BSE\n",
    "# freedays : number of days after which algorithm buys stock even if it is now below the threshold value\n",
    "# after what much change in percentage we want to sell the shares\n",
    "# funds : how much funds to use for particular share\n",
    "# maxValue : buys If share goes below this price\n",
    "# name,      tradingSymbol,                  exchange ,freedays, percent, funds, maxValue\n",
    "\n",
    "Sharename = Share('BSE:SHARE_NAME', 'SHARE_NAME', 'EXCHANGE', 50, 10, 5000, 51) \n",
    "# (Sharename in form of code)\n",
    " "
   ]
  },
  {
   "cell_type": "code",
   "execution_count": null,
   "id": "faf935db",
   "metadata": {
    "ExecuteTime": {
     "end_time": "2022-02-18T06:52:56.228444Z",
     "start_time": "2022-02-18T06:52:46.808615Z"
    }
   },
   "outputs": [],
   "source": [
    "iteration = 0\n",
    "while True:\n",
    "    iteration += 1\n",
    "    Sharename.PLACEORDER()\n",
    "    time.sleep(3)\n",
    "    clear_output(wait=True)\n",
    "    if balance()*0.1 < 100:\n",
    "        break"
   ]
  },
  {
   "cell_type": "code",
   "execution_count": null,
   "id": "fa680d20",
   "metadata": {
    "ExecuteTime": {
     "end_time": "2022-02-18T08:54:10.530204Z",
     "start_time": "2022-02-18T07:00:12.130437Z"
    }
   },
   "outputs": [],
   "source": [
    "while True:\n",
    "    time.sleep(3)\n",
    "    if Sharename.price() < 51.5:\n",
    "        placeOrder('SHARE_NAME', 10, True, Sharename.price())\n",
    "        print(f'order placed at {Sharename.price()} for 10 shares')\n",
    "    "
   ]
  }
 ],
 "metadata": {
  "hide_input": false,
  "kernelspec": {
   "display_name": "Python 3 (ipykernel)",
   "language": "python",
   "name": "python3"
  },
  "language_info": {
   "codemirror_mode": {
    "name": "ipython",
    "version": 3
   },
   "file_extension": ".py",
   "mimetype": "text/x-python",
   "name": "python",
   "nbconvert_exporter": "python",
   "pygments_lexer": "ipython3",
   "version": "3.8.5"
  }
 },
 "nbformat": 4,
 "nbformat_minor": 5
}
